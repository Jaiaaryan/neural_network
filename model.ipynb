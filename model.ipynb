{
 "metadata": {
  "name": "",
  "signature": "sha256:a0c1c6cfc06af0ae723275de6634106257f08d7540152561299ff7a042f5cf73"
 },
 "nbformat": 3,
 "nbformat_minor": 0,
 "worksheets": [
  {
   "cells": [
    {
     "cell_type": "code",
     "collapsed": false,
     "input": [
      "import numpy as np\n",
      "import matplotlib.pyplot as plt\n",
      "%matplotlib inline"
     ],
     "language": "python",
     "metadata": {},
     "outputs": [],
     "prompt_number": 16
    },
    {
     "cell_type": "code",
     "collapsed": false,
     "input": [
      "def activation(x):\n",
      "    return 1/(1+np.exp(-x))\n",
      "def activation_d(x):\n",
      "    return activation(x)*(1-activation(x))\n",
      "def cost(output, target):\n",
      "    return np.sum(np.power(output - target, 2))\n",
      "def cost_d(output, target):\n",
      "    return np.sum(output - target)\n",
      "\n",
      "#Layer class - Network will contain a list of layers, each responsible for feedforward\n",
      "class Layer(object):\n",
      "    def __init__(self, num_inputs=0, num_outputs=0):\n",
      "        self.num_outputs = num_outputs\n",
      "        self.num_inputs = num_inputs\n",
      "        \n",
      "        self.child_layer = None\n",
      "        self.parent_layer = None\n",
      "        \n",
      "        #user set both inputs and outputs, create weights\n",
      "        if self.num_inputs != 0 and self.num_outputs != 0:\n",
      "            self.init_weights()\n",
      "            \n",
      "        #Setup activation functions\n",
      "        self.activation = np.vectorize(activation)\n",
      "        self.activation_d = np.vectorize(activation_d)\n",
      "    \n",
      "    def set_parent(self, parent_layer):\n",
      "        self.parent_layer = parent_layer\n",
      "        #Init weights now that you have the correct dimensions\n",
      "        self.num_inputs = self.parent_layer.num_outputs\n",
      "        self.init_weights()\n",
      "        \n",
      "    def set_child(self, child_layer):\n",
      "        self.child_layer = child_layer\n",
      "        \n",
      "    def init_weights(self):\n",
      "        self.weights = np.random.randn(self.num_inputs, self.num_outputs)\n",
      "        \n",
      "    def feed_forward(self, input_vector):\n",
      "        self.input_vector = input_vector\n",
      "        self.output_raw = input_vector.dot(self.weights)\n",
      "        self.output_act = self.activation(self.output_raw)\n",
      "        print \"feed forward:\", self.output_act\n",
      "        if self.child_layer:\n",
      "            self.child_layer.feed_forward(self.output_act)\n",
      "            \n",
      "    def backprop(self, deltas):\n",
      "        self.deltas = deltas\n",
      "        if self.parent_layer:\n",
      "            self.parent_layer.backprop(np.random.randn(10))\n",
      "        print \"Deltas\", self.deltas\n",
      "            \n",
      "    def description(self):\n",
      "        print \"Shape:\", self.weights.shape\n",
      "        if self.child_layer:\n",
      "            self.child_layer.description()\n",
      "            \n",
      "    def graph(self):\n",
      "        plt.imshow(self.weights, cmap=plt.cm.gray_r, vmin=0, vmax=1, interpolation='nearest')\n",
      "                       \n",
      "#Network class - Will manage layers        \n",
      "class Network(object):\n",
      "    def __init__(self, learning_rate = 0.1):\n",
      "        self.layers = []\n",
      "        self.learning_rate = learning_rate\n",
      "        \n",
      "    def add_layer(self, new_layer):\n",
      "        #Get last layer to associate it with the newest layer\n",
      "        if len(self.layers) == 0:\n",
      "            self.layers.append(new_layer)\n",
      "        else:\n",
      "            last_layer = self.layers[-1]\n",
      "            new_layer.set_parent(last_layer)\n",
      "            last_layer.set_child(new_layer)\n",
      "            self.layers.append(new_layer)\n",
      "        self.last_layer = new_layer\n",
      "        \n",
      "    def feed_forward(self, input_vector):\n",
      "        input_layer = self.layers[0]\n",
      "        input_layer.feed_forward(input_vector)\n",
      "        \n",
      "    def backprop(self, target):\n",
      "        self.last_layer.backprop(self.cost(self.output, target))\n",
      "    \n",
      "    def description(self):\n",
      "        print \"Network with layers: \", len(self.layers)\n",
      "        self.layers[0].description()"
     ],
     "language": "python",
     "metadata": {},
     "outputs": [],
     "prompt_number": 20
    },
    {
     "cell_type": "code",
     "collapsed": false,
     "input": [
      "myNet = Network()\n",
      "myNet.add_layer(Layer(num_inputs=1, num_outputs=20))\n",
      "myNet.add_layer(Layer(num_outputs=1))\n",
      "\n",
      "myNet.description()"
     ],
     "language": "python",
     "metadata": {},
     "outputs": [
      {
       "output_type": "stream",
       "stream": "stdout",
       "text": [
        "Network with layers:  2\n",
        "Shape: (1, 20)\n",
        "Shape: (20, 1)\n"
       ]
      }
     ],
     "prompt_number": 21
    },
    {
     "cell_type": "code",
     "collapsed": false,
     "input": [
      "myNet.feed_forward(np.random.randn(1))\n",
      "print \"cost\", cost(myNet.last_layer.output_act, np.array([1]))"
     ],
     "language": "python",
     "metadata": {},
     "outputs": [
      {
       "output_type": "stream",
       "stream": "stdout",
       "text": [
        "feed forward: [ 0.31249683  0.77211372  0.72456254  0.63878131  0.15041985  0.43478803\n",
        "  0.30341765  0.86446827  0.81611875  0.37291515  0.26543825  0.8657115\n",
        "  0.81721462  0.37018304  0.25943321  0.93599557  0.45975699  0.03828801\n",
        "  0.61698006  0.63792104]\n",
        "feed forward: [ 0.37028197]\n",
        "cost 0.396544795689\n"
       ]
      }
     ],
     "prompt_number": 22
    },
    {
     "cell_type": "code",
     "collapsed": false,
     "input": [],
     "language": "python",
     "metadata": {},
     "outputs": []
    }
   ],
   "metadata": {}
  }
 ]
}