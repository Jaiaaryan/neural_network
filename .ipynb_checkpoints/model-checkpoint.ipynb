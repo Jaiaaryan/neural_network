{
 "metadata": {
  "name": "",
  "signature": "sha256:40af2f6d58655b2a2669e1ba02fd5250fe03ce178a777e57ed095f2fe7c06649"
 },
 "nbformat": 3,
 "nbformat_minor": 0,
 "worksheets": [
  {
   "cells": [
    {
     "cell_type": "code",
     "collapsed": false,
     "input": [
      "import numpy as np\n",
      "import matplotlib.pyplot as plt\n",
      "%matplotlib inline"
     ],
     "language": "python",
     "metadata": {},
     "outputs": [],
     "prompt_number": 31
    },
    {
     "cell_type": "code",
     "collapsed": false,
     "input": [
      "def activation(x):\n",
      "    return 1/(1+np.exp(-x))\n",
      "def activation_d(x):\n",
      "    return activation(x)*(1-activation(x))\n",
      "def cost(output, target):\n",
      "    return np.sum(np.power(output - target, 2))\n",
      "def cost_d(output, target):\n",
      "    return np.sum(output - target)\n",
      "\n",
      "#Layer class - Network will contain a list of layers, each responsible for feedforward\n",
      "class Layer(object):\n",
      "    def __init__(self, num_inputs=0, num_outputs=0, learning_rate=0.1):\n",
      "        self.num_outputs = num_outputs\n",
      "        self.num_inputs = num_inputs\n",
      "        \n",
      "        self.child_layer = None\n",
      "        self.parent_layer = None\n",
      "        \n",
      "        #user set both inputs and outputs, create weights\n",
      "        if self.num_inputs != 0 and self.num_outputs != 0:\n",
      "            self.init_weights()\n",
      "            \n",
      "        #Setup activation functions\n",
      "        self.activation = np.vectorize(activation)\n",
      "        self.activation_d = np.vectorize(activation_d)\n",
      "        \n",
      "        self.learning_rate = learning_rate\n",
      "    \n",
      "    def set_parent(self, parent_layer):\n",
      "        self.parent_layer = parent_layer\n",
      "        #Init weights now that you have the correct dimensions\n",
      "        self.num_inputs = self.parent_layer.num_outputs\n",
      "        self.init_weights()\n",
      "        \n",
      "    def set_child(self, child_layer):\n",
      "        self.child_layer = child_layer\n",
      "        \n",
      "    def init_weights(self):\n",
      "        self.weights = np.random.randn(self.num_inputs, self.num_outputs)\n",
      "        \n",
      "    def feed_forward(self, input_vector):\n",
      "        self.input_vector = input_vector\n",
      "        self.output_raw = input_vector.dot(self.weights)\n",
      "        self.output_act = self.activation(self.output_raw)\n",
      "        if self.child_layer:\n",
      "            self.child_layer.feed_forward(self.output_act)\n",
      "            \n",
      "    def calculate_gradient(self, target=None):\n",
      "        if target:\n",
      "            #last layer, calc deltas with regard to cost function and target\n",
      "            self.deltas = cost_d(self.output_act, target) * activation_d(self.output_raw)\n",
      "        \n",
      "        if self.child_layer:\n",
      "            self.deltas = self.child_layer.weights.dot(self.child_layer.deltas)\n",
      "            \n",
      "        if self.parent_layer:\n",
      "            self.parent_layer.calculate_gradient()\n",
      "            \n",
      "        #Calc gradient using deltas\n",
      "        self.gradient = np.inner(self.output_act, self.deltas)\n",
      "        #Apply gradient\n",
      "        self.weights -= self.learning_rate * self.gradient\n",
      "        \n",
      "    def description(self):\n",
      "        print \"Shape:\", self.weights.shape\n",
      "        if self.child_layer:\n",
      "            self.child_layer.description()\n",
      "            \n",
      "    def graph(self):\n",
      "        plt.imshow(self.weights, cmap=plt.cm.gray_r, vmin=0, vmax=1, interpolation='nearest')\n",
      "                       \n",
      "#Network class - Will manage layers        \n",
      "class Network(object):\n",
      "    def __init__(self):\n",
      "        self.layers = []\n",
      "        \n",
      "    def add_layer(self, new_layer):\n",
      "        #Get last layer to associate it with the newest layer\n",
      "        if len(self.layers) == 0:\n",
      "            self.layers.append(new_layer)\n",
      "        else:\n",
      "            last_layer = self.layers[-1]\n",
      "            new_layer.set_parent(last_layer)\n",
      "            last_layer.set_child(new_layer)\n",
      "            self.layers.append(new_layer)\n",
      "        self.last_layer = new_layer\n",
      "        \n",
      "    def feed_forward(self, input_vector):\n",
      "        input_layer = self.layers[0]\n",
      "        input_layer.feed_forward(input_vector)\n",
      "        \n",
      "    def backprop(self, target):\n",
      "        self.last_layer.calculate_gradient(target)\n",
      "        \n",
      "    def fit(self, data):\n",
      "        max_iters = 10000\n",
      "        cur_iter = 0\n",
      "        c = self.total_cost(data)\n",
      "        while c > .1 and cur_iter < max_iters:\n",
      "            rand_pair = data[np.random.randint(0,len(data))]\n",
      "            self.feed_forward(rand_pair[0])\n",
      "            self.backprop(rand_pair[1])\n",
      "            c = self.total_cost(data)\n",
      "            cur_iter += 1\n",
      "        print \"Finished training\\nIters:\", cur_iter, \"\\nCost:\", self.total_cost(data)\n",
      "    \n",
      "    def total_cost(self, data):\n",
      "        c = 0\n",
      "        for pair in data:\n",
      "            self.feed_forward(pair[0])\n",
      "            c += cost(self.last_layer.output_act, pair[1])\n",
      "        return c\n",
      "    \n",
      "    def description(self):\n",
      "        print \"Network with layers: \", len(self.layers)\n",
      "        self.layers[0].description()"
     ],
     "language": "python",
     "metadata": {},
     "outputs": [],
     "prompt_number": 840
    },
    {
     "cell_type": "code",
     "collapsed": false,
     "input": [
      "myNet = Network()\n",
      "myNet.add_layer(Layer(num_inputs=1, num_outputs=20))\n",
      "myNet.add_layer(Layer(num_outputs=1))\n",
      "\n",
      "myNet.description()"
     ],
     "language": "python",
     "metadata": {},
     "outputs": [
      {
       "output_type": "stream",
       "stream": "stdout",
       "text": [
        "Network with layers:  2\n",
        "Shape: (1, 20)\n",
        "Shape: (20, 1)\n"
       ]
      }
     ],
     "prompt_number": 841
    },
    {
     "cell_type": "code",
     "collapsed": false,
     "input": [
      "data = [[np.array([.5]), np.array([1])]]\n",
      "myNet.fit(data)"
     ],
     "language": "python",
     "metadata": {},
     "outputs": [
      {
       "output_type": "stream",
       "stream": "stdout",
       "text": [
        "Finished training\n",
        "Iters: 38 \n",
        "Cost: 0.0968623567902\n"
       ]
      }
     ],
     "prompt_number": 842
    },
    {
     "cell_type": "code",
     "collapsed": false,
     "input": [],
     "language": "python",
     "metadata": {},
     "outputs": []
    }
   ],
   "metadata": {}
  }
 ]
}