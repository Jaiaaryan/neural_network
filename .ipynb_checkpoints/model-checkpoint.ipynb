{
 "metadata": {
  "name": "",
  "signature": "sha256:de962caa25054013d98127441383fc7c620afe6912fde340fe40ac1212df1588"
 },
 "nbformat": 3,
 "nbformat_minor": 0,
 "worksheets": [
  {
   "cells": [
    {
     "cell_type": "code",
     "collapsed": false,
     "input": [
      "import numpy as np\n",
      "import matplotlib.pyplot as plt\n",
      "import math\n",
      "%matplotlib inline"
     ],
     "language": "python",
     "metadata": {},
     "outputs": [],
     "prompt_number": 192
    },
    {
     "cell_type": "code",
     "collapsed": false,
     "input": [
      "def sigmoid(x):\n",
      "    return 1/(1+np.exp(-1 * x))\n",
      "def sigmoid_d(x):\n",
      "    return sigmoid(x)*(1-sigmoid(x))\n",
      "def tanh_d(x):\n",
      "    return 1 - np.power(np.tanh(x), 2)\n",
      "def linear(x):\n",
      "    return x\n",
      "def linear_d(x):\n",
      "    return 1\n",
      "\n",
      "def full_product(x, y):\n",
      "    return np.array([[x[i]*y[j] for i in xrange(len(x))] for j in xrange(len(y))])\n",
      "\n",
      "def squared_cost(output, target):\n",
      "    return np.sum(np.power(output - target, 2))\n",
      "def squared_cost_d(output, target):\n",
      "    return np.sum(output - target)"
     ],
     "language": "python",
     "metadata": {},
     "outputs": [],
     "prompt_number": 453
    },
    {
     "cell_type": "code",
     "collapsed": false,
     "input": [
      "#Layer class - Network will contain a list of layers, each responsible for feedforward\n",
      "class Layer(object):\n",
      "    def __init__(self, num_inputs=0, num_outputs=0, learning_rate=0.01, act=sigmoid, act_d=sigmoid_d, cost=squared_cost, cost_d=squared_cost_d):\n",
      "        self.num_outputs = num_outputs\n",
      "        self.num_inputs = num_inputs\n",
      "        \n",
      "        self.child_layer = None\n",
      "        self.parent_layer = None\n",
      "        \n",
      "        #user set both inputs and outputs, create weights\n",
      "        if self.num_inputs != 0 and self.num_outputs != 0:\n",
      "            self.init_weights()\n",
      "            \n",
      "        #Setup activation functions\n",
      "        self.activation = np.vectorize(act)\n",
      "        self.activation_d = np.vectorize(act_d)\n",
      "        self.cost = cost\n",
      "        self.cost_d = cost_d\n",
      "        \n",
      "        self.learning_rate = learning_rate\n",
      "    \n",
      "    def set_parent(self, parent_layer):\n",
      "        self.parent_layer = parent_layer\n",
      "        #Init weights now that you have the correct dimensions\n",
      "        self.num_inputs = self.parent_layer.num_outputs\n",
      "        self.init_weights()\n",
      "        \n",
      "    def set_child(self, child_layer):\n",
      "        self.child_layer = child_layer\n",
      "        \n",
      "    def init_weights(self):\n",
      "        #add one to num inputs for the bias\n",
      "        self.weights = np.random.randn(self.num_inputs + 1, self.num_outputs)\n",
      "        \n",
      "    def feed_forward(self, input_vector):\n",
      "        self.input_vector = np.append(input_vector, np.ones(1))\n",
      "        self.output_raw = self.input_vector.dot(self.weights)\n",
      "        self.output_act = self.activation(self.output_raw)\n",
      "        if self.child_layer:\n",
      "            self.child_layer.feed_forward(self.output_act)\n",
      "    \n",
      "    def backprop(self, target):\n",
      "        self.deltas = self.cost_d(self.output_act, target) * self.activation_d(self.output_raw)\n",
      "        \n",
      "        if self.parent_layer:\n",
      "            self.parent_layer.calculate_deltas()\n",
      "            \n",
      "        self.calculate_gradient()\n",
      "        self.apply_gradient()\n",
      "    \n",
      "    def calculate_deltas(self, target=None):  \n",
      "        self.deltas = self.child_layer.weights.dot(self.child_layer.deltas.T)\n",
      "            \n",
      "    def calculate_gradient(self, target=None):\n",
      "        self.gradient = full_product(np.append(self.input_vector, np.ones(1)), self.deltas)\n",
      "        print \"gradient\", self.gradient.shape\n",
      "        \n",
      "        if self.parent_layer:\n",
      "            self.parent_layer.calculate_gradient()\n",
      "        \n",
      "    def apply_gradient(self):\n",
      "        self.weights -= self.learning_rate * self.gradient\n",
      "        \n",
      "        if self.parent_layer:\n",
      "            self.parent_layer.apply_gradient()\n",
      "        \n",
      "    def description(self):\n",
      "        print \"Shape:\", self.weights.shape, \"learning_rate:\", self.learning_rate\n",
      "        if self.child_layer:\n",
      "            self.child_layer.description()\n",
      "            \n",
      "    def graph(self):\n",
      "        plt.imshow(self.weights, cmap=plt.cm.gray_r, vmin=0, vmax=1, interpolation='nearest')\n",
      "                       \n",
      "#Network class - Will manage layers        \n",
      "class Network(object):\n",
      "    def __init__(self, cost=squared_cost):\n",
      "        self.layers = []\n",
      "        self.cost = cost\n",
      "        \n",
      "    def add_layer(self, new_layer):\n",
      "        #Get last layer to associate it with the newest layer\n",
      "        if len(self.layers) == 0:\n",
      "            self.layers.append(new_layer)\n",
      "        else:\n",
      "            last_layer = self.layers[-1]\n",
      "            new_layer.set_parent(last_layer)\n",
      "            last_layer.set_child(new_layer)\n",
      "            self.layers.append(new_layer)\n",
      "        self.last_layer = new_layer\n",
      "        \n",
      "    def feed_forward(self, input_vector):\n",
      "        input_layer = self.layers[0]\n",
      "        input_layer.feed_forward(input_vector)\n",
      "        return self.last_layer.output_act\n",
      "        \n",
      "    def backprop(self, target):\n",
      "        self.last_layer.backprop(target)\n",
      "        \n",
      "    def fit(self, data, max_iters=10000):\n",
      "        cur_iter = 0\n",
      "        while cur_iter < max_iters:\n",
      "            rand_pair = data[np.random.randint(0,len(data))]\n",
      "            self.feed_forward(rand_pair[0])\n",
      "            self.backprop(rand_pair[1])\n",
      "            cur_iter += 1\n",
      "        print \"Finished training\\nIters:\", cur_iter, \"\\nCost:\", self.total_cost(data)\n",
      "        \n",
      "    def predict(self, data):\n",
      "        return np.array([self.feed_forward(pair[0]) for pair in data])\n",
      "    \n",
      "    def total_cost(self, data):\n",
      "        c = 0\n",
      "        for pair in data:\n",
      "            self.feed_forward(pair[0])\n",
      "            c += self.cost(self.last_layer.output_act, pair[1])\n",
      "        return c\n",
      "    \n",
      "    def set_all_activations(self, activation, activation_d):\n",
      "        for layer in self.layers:\n",
      "            layer.activation = activation\n",
      "            layer.activation_d = activation_d\n",
      "    def set_all_learning_rates(self, learning_rate):\n",
      "        for layer in self.layers:\n",
      "            layer.learning_rate = learning_rate\n",
      "    \n",
      "    def description(self):\n",
      "        print \"Network with layers: \", len(self.layers)\n",
      "        self.layers[0].description()"
     ],
     "language": "python",
     "metadata": {},
     "outputs": [],
     "prompt_number": 454
    },
    {
     "cell_type": "code",
     "collapsed": false,
     "input": [
      "myNet = Network()\n",
      "myNet.add_layer(Layer(num_inputs=1, num_outputs=10))\n",
      "myNet.add_layer(Layer(num_outputs=1))\n",
      "\n",
      "myNet.set_all_activations(np.tanh, np.vectorize(tanh_d))\n",
      "myNet.set_all_learning_rates(0.01)\n",
      "\n",
      "myNet.description()"
     ],
     "language": "python",
     "metadata": {},
     "outputs": [
      {
       "output_type": "stream",
       "stream": "stdout",
       "text": [
        "Network with layers:  2\n",
        "Shape: (2, 10) learning_rate: 0.01\n",
        "Shape: (11, 1) learning_rate: 0.01\n"
       ]
      }
     ],
     "prompt_number": 455
    },
    {
     "cell_type": "code",
     "collapsed": false,
     "input": [
      "data = np.array([[np.array([x/10.0]), np.array([x/10.0])] for x in xrange(10)])"
     ],
     "language": "python",
     "metadata": {},
     "outputs": [],
     "prompt_number": 456
    },
    {
     "cell_type": "code",
     "collapsed": false,
     "input": [
      "myNet.fit(data, max_iters=10000)\n",
      "pred = myNet.predict(data)\n",
      "plt.plot(data[:,0], data[:,1])\n",
      "plt.plot(data[:,0], pred)"
     ],
     "language": "python",
     "metadata": {},
     "outputs": [
      {
       "output_type": "stream",
       "stream": "stdout",
       "text": [
        "gradient (1, 12)\n",
        "gradient (11, 3)\n"
       ]
      },
      {
       "ename": "ValueError",
       "evalue": "non-broadcastable output operand with shape (11,1) doesn't match the broadcast shape (11,12)",
       "output_type": "pyerr",
       "traceback": [
        "\u001b[0;31m---------------------------------------------------------------------------\u001b[0m\n\u001b[0;31mValueError\u001b[0m                                Traceback (most recent call last)",
        "\u001b[0;32m<ipython-input-457-074a578b9490>\u001b[0m in \u001b[0;36m<module>\u001b[0;34m()\u001b[0m\n\u001b[0;32m----> 1\u001b[0;31m \u001b[0mmyNet\u001b[0m\u001b[0;34m.\u001b[0m\u001b[0mfit\u001b[0m\u001b[0;34m(\u001b[0m\u001b[0mdata\u001b[0m\u001b[0;34m,\u001b[0m \u001b[0mmax_iters\u001b[0m\u001b[0;34m=\u001b[0m\u001b[0;36m10000\u001b[0m\u001b[0;34m)\u001b[0m\u001b[0;34m\u001b[0m\u001b[0m\n\u001b[0m\u001b[1;32m      2\u001b[0m \u001b[0mpred\u001b[0m \u001b[0;34m=\u001b[0m \u001b[0mmyNet\u001b[0m\u001b[0;34m.\u001b[0m\u001b[0mpredict\u001b[0m\u001b[0;34m(\u001b[0m\u001b[0mdata\u001b[0m\u001b[0;34m)\u001b[0m\u001b[0;34m\u001b[0m\u001b[0m\n\u001b[1;32m      3\u001b[0m \u001b[0mplt\u001b[0m\u001b[0;34m.\u001b[0m\u001b[0mplot\u001b[0m\u001b[0;34m(\u001b[0m\u001b[0mdata\u001b[0m\u001b[0;34m[\u001b[0m\u001b[0;34m:\u001b[0m\u001b[0;34m,\u001b[0m\u001b[0;36m0\u001b[0m\u001b[0;34m]\u001b[0m\u001b[0;34m,\u001b[0m \u001b[0mdata\u001b[0m\u001b[0;34m[\u001b[0m\u001b[0;34m:\u001b[0m\u001b[0;34m,\u001b[0m\u001b[0;36m1\u001b[0m\u001b[0;34m]\u001b[0m\u001b[0;34m)\u001b[0m\u001b[0;34m\u001b[0m\u001b[0m\n\u001b[1;32m      4\u001b[0m \u001b[0mplt\u001b[0m\u001b[0;34m.\u001b[0m\u001b[0mplot\u001b[0m\u001b[0;34m(\u001b[0m\u001b[0mdata\u001b[0m\u001b[0;34m[\u001b[0m\u001b[0;34m:\u001b[0m\u001b[0;34m,\u001b[0m\u001b[0;36m0\u001b[0m\u001b[0;34m]\u001b[0m\u001b[0;34m,\u001b[0m \u001b[0mpred\u001b[0m\u001b[0;34m)\u001b[0m\u001b[0;34m\u001b[0m\u001b[0m\n",
        "\u001b[0;32m<ipython-input-454-1702a3a178e6>\u001b[0m in \u001b[0;36mfit\u001b[0;34m(self, data, max_iters)\u001b[0m\n\u001b[1;32m    103\u001b[0m             \u001b[0mrand_pair\u001b[0m \u001b[0;34m=\u001b[0m \u001b[0mdata\u001b[0m\u001b[0;34m[\u001b[0m\u001b[0mnp\u001b[0m\u001b[0;34m.\u001b[0m\u001b[0mrandom\u001b[0m\u001b[0;34m.\u001b[0m\u001b[0mrandint\u001b[0m\u001b[0;34m(\u001b[0m\u001b[0;36m0\u001b[0m\u001b[0;34m,\u001b[0m\u001b[0mlen\u001b[0m\u001b[0;34m(\u001b[0m\u001b[0mdata\u001b[0m\u001b[0;34m)\u001b[0m\u001b[0;34m)\u001b[0m\u001b[0;34m]\u001b[0m\u001b[0;34m\u001b[0m\u001b[0m\n\u001b[1;32m    104\u001b[0m             \u001b[0mself\u001b[0m\u001b[0;34m.\u001b[0m\u001b[0mfeed_forward\u001b[0m\u001b[0;34m(\u001b[0m\u001b[0mrand_pair\u001b[0m\u001b[0;34m[\u001b[0m\u001b[0;36m0\u001b[0m\u001b[0;34m]\u001b[0m\u001b[0;34m)\u001b[0m\u001b[0;34m\u001b[0m\u001b[0m\n\u001b[0;32m--> 105\u001b[0;31m             \u001b[0mself\u001b[0m\u001b[0;34m.\u001b[0m\u001b[0mbackprop\u001b[0m\u001b[0;34m(\u001b[0m\u001b[0mrand_pair\u001b[0m\u001b[0;34m[\u001b[0m\u001b[0;36m1\u001b[0m\u001b[0;34m]\u001b[0m\u001b[0;34m)\u001b[0m\u001b[0;34m\u001b[0m\u001b[0m\n\u001b[0m\u001b[1;32m    106\u001b[0m             \u001b[0mcur_iter\u001b[0m \u001b[0;34m+=\u001b[0m \u001b[0;36m1\u001b[0m\u001b[0;34m\u001b[0m\u001b[0m\n\u001b[1;32m    107\u001b[0m         \u001b[0;32mprint\u001b[0m \u001b[0;34m\"Finished training\\nIters:\"\u001b[0m\u001b[0;34m,\u001b[0m \u001b[0mcur_iter\u001b[0m\u001b[0;34m,\u001b[0m \u001b[0;34m\"\\nCost:\"\u001b[0m\u001b[0;34m,\u001b[0m \u001b[0mself\u001b[0m\u001b[0;34m.\u001b[0m\u001b[0mtotal_cost\u001b[0m\u001b[0;34m(\u001b[0m\u001b[0mdata\u001b[0m\u001b[0;34m)\u001b[0m\u001b[0;34m\u001b[0m\u001b[0m\n",
        "\u001b[0;32m<ipython-input-454-1702a3a178e6>\u001b[0m in \u001b[0;36mbackprop\u001b[0;34m(self, target)\u001b[0m\n\u001b[1;32m     96\u001b[0m \u001b[0;34m\u001b[0m\u001b[0m\n\u001b[1;32m     97\u001b[0m     \u001b[0;32mdef\u001b[0m \u001b[0mbackprop\u001b[0m\u001b[0;34m(\u001b[0m\u001b[0mself\u001b[0m\u001b[0;34m,\u001b[0m \u001b[0mtarget\u001b[0m\u001b[0;34m)\u001b[0m\u001b[0;34m:\u001b[0m\u001b[0;34m\u001b[0m\u001b[0m\n\u001b[0;32m---> 98\u001b[0;31m         \u001b[0mself\u001b[0m\u001b[0;34m.\u001b[0m\u001b[0mlast_layer\u001b[0m\u001b[0;34m.\u001b[0m\u001b[0mbackprop\u001b[0m\u001b[0;34m(\u001b[0m\u001b[0mtarget\u001b[0m\u001b[0;34m)\u001b[0m\u001b[0;34m\u001b[0m\u001b[0m\n\u001b[0m\u001b[1;32m     99\u001b[0m \u001b[0;34m\u001b[0m\u001b[0m\n\u001b[1;32m    100\u001b[0m     \u001b[0;32mdef\u001b[0m \u001b[0mfit\u001b[0m\u001b[0;34m(\u001b[0m\u001b[0mself\u001b[0m\u001b[0;34m,\u001b[0m \u001b[0mdata\u001b[0m\u001b[0;34m,\u001b[0m \u001b[0mmax_iters\u001b[0m\u001b[0;34m=\u001b[0m\u001b[0;36m10000\u001b[0m\u001b[0;34m)\u001b[0m\u001b[0;34m:\u001b[0m\u001b[0;34m\u001b[0m\u001b[0m\n",
        "\u001b[0;32m<ipython-input-454-1702a3a178e6>\u001b[0m in \u001b[0;36mbackprop\u001b[0;34m(self, target)\u001b[0m\n\u001b[1;32m     47\u001b[0m \u001b[0;34m\u001b[0m\u001b[0m\n\u001b[1;32m     48\u001b[0m         \u001b[0mself\u001b[0m\u001b[0;34m.\u001b[0m\u001b[0mcalculate_gradient\u001b[0m\u001b[0;34m(\u001b[0m\u001b[0;34m)\u001b[0m\u001b[0;34m\u001b[0m\u001b[0m\n\u001b[0;32m---> 49\u001b[0;31m         \u001b[0mself\u001b[0m\u001b[0;34m.\u001b[0m\u001b[0mapply_gradient\u001b[0m\u001b[0;34m(\u001b[0m\u001b[0;34m)\u001b[0m\u001b[0;34m\u001b[0m\u001b[0m\n\u001b[0m\u001b[1;32m     50\u001b[0m \u001b[0;34m\u001b[0m\u001b[0m\n\u001b[1;32m     51\u001b[0m     \u001b[0;32mdef\u001b[0m \u001b[0mcalculate_deltas\u001b[0m\u001b[0;34m(\u001b[0m\u001b[0mself\u001b[0m\u001b[0;34m,\u001b[0m \u001b[0mtarget\u001b[0m\u001b[0;34m=\u001b[0m\u001b[0mNone\u001b[0m\u001b[0;34m)\u001b[0m\u001b[0;34m:\u001b[0m\u001b[0;34m\u001b[0m\u001b[0m\n",
        "\u001b[0;32m<ipython-input-454-1702a3a178e6>\u001b[0m in \u001b[0;36mapply_gradient\u001b[0;34m(self)\u001b[0m\n\u001b[1;32m     60\u001b[0m \u001b[0;34m\u001b[0m\u001b[0m\n\u001b[1;32m     61\u001b[0m     \u001b[0;32mdef\u001b[0m \u001b[0mapply_gradient\u001b[0m\u001b[0;34m(\u001b[0m\u001b[0mself\u001b[0m\u001b[0;34m)\u001b[0m\u001b[0;34m:\u001b[0m\u001b[0;34m\u001b[0m\u001b[0m\n\u001b[0;32m---> 62\u001b[0;31m         \u001b[0mself\u001b[0m\u001b[0;34m.\u001b[0m\u001b[0mweights\u001b[0m \u001b[0;34m-=\u001b[0m \u001b[0mself\u001b[0m\u001b[0;34m.\u001b[0m\u001b[0mlearning_rate\u001b[0m \u001b[0;34m*\u001b[0m \u001b[0mself\u001b[0m\u001b[0;34m.\u001b[0m\u001b[0mgradient\u001b[0m\u001b[0;34m\u001b[0m\u001b[0m\n\u001b[0m\u001b[1;32m     63\u001b[0m \u001b[0;34m\u001b[0m\u001b[0m\n\u001b[1;32m     64\u001b[0m         \u001b[0;32mif\u001b[0m \u001b[0mself\u001b[0m\u001b[0;34m.\u001b[0m\u001b[0mparent_layer\u001b[0m\u001b[0;34m:\u001b[0m\u001b[0;34m\u001b[0m\u001b[0m\n",
        "\u001b[0;31mValueError\u001b[0m: non-broadcastable output operand with shape (11,1) doesn't match the broadcast shape (11,12)"
       ]
      }
     ],
     "prompt_number": 457
    },
    {
     "cell_type": "code",
     "collapsed": false,
     "input": [
      "a = np.arange(0,3)\n",
      "b = np.arange(3,6)\n",
      "c = np.zeros((3,3))\n",
      "c = [[a[r]*b[c] for r in xrange(len(a))] for c in xrange(len(a))]\n",
      "c"
     ],
     "language": "python",
     "metadata": {},
     "outputs": [
      {
       "metadata": {},
       "output_type": "pyout",
       "prompt_number": 439,
       "text": [
        "[[0, 3, 6], [0, 4, 8], [0, 5, 10]]"
       ]
      }
     ],
     "prompt_number": 439
    },
    {
     "cell_type": "code",
     "collapsed": false,
     "input": [],
     "language": "python",
     "metadata": {},
     "outputs": []
    }
   ],
   "metadata": {}
  }
 ]
}