{
 "metadata": {
  "name": "",
  "signature": "sha256:206b6975991d44cbc6e3b9c378bfe407df19e5833f3c89d438ccc9057ffd1530"
 },
 "nbformat": 3,
 "nbformat_minor": 0,
 "worksheets": [
  {
   "cells": [
    {
     "cell_type": "code",
     "collapsed": false,
     "input": [
      "import numpy as np\n",
      "import matplotlib.pyplot as plt\n",
      "%matplotlib inline"
     ],
     "language": "python",
     "metadata": {},
     "outputs": [],
     "prompt_number": 1
    },
    {
     "cell_type": "code",
     "collapsed": false,
     "input": [
      "class Neuron(object):\n",
      "    def __init__(self):\n",
      "        self.output = 1\n",
      "        self.inputs = None\n",
      "        \n",
      "    def set_inputs(self, inputs):\n",
      "        self.inputs = inputs\n",
      "        self.weights = np.random.randn(len(inputs))\n",
      "        \n",
      "    def calc_output(self):\n",
      "        if self.inputs:\n",
      "            self.output = 0\n",
      "            for in_neuron in self.inputs:\n",
      "                self.output += in_neuron.output * self.weights[self.inputs.index(in_neuron)]\n",
      "\n",
      "class Layer(object):\n",
      "    def __init__(self, index=0, num_neurons=0):\n",
      "        self.neurons = [Neuron() for n in xrange(num_neurons)]\n",
      "        self.input_layer = None\n",
      "        self.output_layer = None\n",
      "        self.index = index\n",
      "        pass\n",
      "    \n",
      "    def output_to(self, output_layer):\n",
      "        for neuron in output_layer.neurons:\n",
      "            neuron.set_inputs(self.neurons)\n",
      "        self.output_layer = output_layer\n",
      "        output_layer.input_layer = self\n",
      "        \n",
      "    def calc_output(self, input_vector=None):\n",
      "        if input_vector:\n",
      "            for neuron in self.neurons:\n",
      "                neuron.output = input_vector[self.neurons.index(neuron)]\n",
      "        else:\n",
      "            for neuron in self.neurons:\n",
      "                neuron.calc_output()\n",
      "                \n",
      "    def description(self):\n",
      "        in_index = None\n",
      "        out_index = None\n",
      "        if self.input_layer:\n",
      "            in_index = self.input_layer.index\n",
      "        if self.output_layer:\n",
      "            out_index = self.output_layer.index\n",
      "        print \"Layer\", self.index, \"with neurons\", len(self.neurons), \"input:\", in_index, \"output:\", out_index\n",
      "        \n",
      "    def activations(self):\n",
      "        return [neuron.output for neuron in self.neurons]\n",
      "    \n",
      "    \n",
      "\n",
      "class Network(object):\n",
      "    def __init__(self):\n",
      "        self.layers = []\n",
      "    def add_layer(self, new_layer):\n",
      "        if len(self.layers) > 0:\n",
      "            last_layer = self.layers[-1]\n",
      "            last_layer.output_to(new_layer)\n",
      "        self.layers.append(new_layer)\n",
      "        new_layer.index = self.layers.index(new_layer)\n",
      "    def feed_forward(self, input_vector):\n",
      "        self.layers[0].calc_output(input_vector)\n",
      "        for layer in self.layers[1:]:\n",
      "            layer.calc_output()\n",
      "        last_layer = self.layers[-1]\n",
      "        print \"Output\", last_layer.activations()\n",
      "        \n",
      "    def description(self):\n",
      "        print \"Net with layers\", len(self.layers)\n",
      "        for layer in self.layers:\n",
      "            layer.description()\n",
      "    pass"
     ],
     "language": "python",
     "metadata": {},
     "outputs": [],
     "prompt_number": 110
    },
    {
     "cell_type": "code",
     "collapsed": false,
     "input": [
      "myNet = Network()\n",
      "myNet.add_layer(Layer(num_neurons=10))\n",
      "myNet.add_layer(Layer(num_neurons=1))\n",
      "myNet.description()"
     ],
     "language": "python",
     "metadata": {},
     "outputs": [
      {
       "output_type": "stream",
       "stream": "stdout",
       "text": [
        "Net with layers 2\n",
        "Layer 0 with neurons 10 input: None output: 1\n",
        "Layer 1 with neurons 1 input: 0 output: None\n"
       ]
      }
     ],
     "prompt_number": 111
    },
    {
     "cell_type": "code",
     "collapsed": false,
     "input": [
      "myNet.feed_forward([0,1,2,3,4,5,6,7,8,9])"
     ],
     "language": "python",
     "metadata": {},
     "outputs": [
      {
       "output_type": "stream",
       "stream": "stdout",
       "text": [
        "Output [2.1099511461390246]\n"
       ]
      }
     ],
     "prompt_number": 114
    },
    {
     "cell_type": "code",
     "collapsed": false,
     "input": [],
     "language": "python",
     "metadata": {},
     "outputs": []
    }
   ],
   "metadata": {}
  }
 ]
}