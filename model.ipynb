{
 "metadata": {
  "name": "",
  "signature": "sha256:e0e53fead47d74af025a52294240fb4cf9113eecb67f099166bb13ad0d5bdf30"
 },
 "nbformat": 3,
 "nbformat_minor": 0,
 "worksheets": [
  {
   "cells": [
    {
     "cell_type": "code",
     "collapsed": false,
     "input": [
      "import numpy as np\n",
      "import matplotlib.pyplot as plt\n",
      "%matplotlib inline"
     ],
     "language": "python",
     "metadata": {},
     "outputs": [],
     "prompt_number": 4
    },
    {
     "cell_type": "code",
     "collapsed": false,
     "input": [
      "def activation(x):\n",
      "    return 1/(1+np.exp(-x))\n",
      "def activation_d(x):\n",
      "    return activation(x)*(1-activation(x))\n",
      "\n",
      "#Layer class - Network will contain a list of layers, each responsible for feedforward\n",
      "class Layer(object):\n",
      "    def __init__(self, num_inputs=0, num_outputs=0):\n",
      "        self.num_outputs = num_outputs\n",
      "        self.num_inputs = num_inputs\n",
      "        \n",
      "        self.child_layer = None\n",
      "        self.parent_layer = None\n",
      "        \n",
      "        #user set both inputs and outputs, create weights\n",
      "        if self.num_inputs != 0 and self.num_outputs != 0:\n",
      "            self.init_weights()\n",
      "        #Setup activation functions\n",
      "        self.activation = np.vectorize(activation)\n",
      "        self.activation_d = np.vectorize(activation_d)\n",
      "    \n",
      "    def set_parent(self, parent_layer):\n",
      "        self.parent_layer = parent_layer\n",
      "        #Init weights now that you have the correct dimensions\n",
      "        self.num_inputs = self.parent_layer.num_outputs\n",
      "        self.init_weights()\n",
      "        \n",
      "    def set_child(self, child_layer):\n",
      "        self.child_layer = child_layer\n",
      "        \n",
      "    def init_weights(self):\n",
      "        self.weights = np.random.randn(self.num_inputs, self.num_outputs)\n",
      "        \n",
      "    def feed_forward(self, input_vector):\n",
      "        self.input_vector = input_vector\n",
      "        self.output_raw = input_vector.dot(self.weights)\n",
      "        self.output_act = self.activation(self.output_raw)\n",
      "        print \"feed forward:\", self.output_act\n",
      "        if self.child_layer:\n",
      "            self.child_layer.feed_forward(self.output_act)\n",
      "            \n",
      "    def description(self):\n",
      "        print \"Shape:\", self.weights.shape\n",
      "        if self.child_layer:\n",
      "            self.child_layer.description()\n",
      "            \n",
      "    def graph(self):\n",
      "        plt.imshow(self.weights, cmap=plt.cm.gray_r, vmin=0, vmax=1, interpolation='nearest')\n",
      "                       \n",
      "#Network class - Will manage layers        \n",
      "class Network(object):\n",
      "    def __init__(self, learning_rate = 0.1):\n",
      "        self.layers = []\n",
      "        self.leanring_rate = learning_rate\n",
      "        \n",
      "    def add_layer(self, new_layer):\n",
      "        #Get last layer to associate it with the newest layer\n",
      "        if len(self.layers) == 0:\n",
      "            self.layers.append(new_layer)\n",
      "        else:\n",
      "            last_layer = self.layers[-1]\n",
      "            new_layer.set_parent(last_layer)\n",
      "            last_layer.set_child(new_layer)\n",
      "            self.layers.append(new_layer)\n",
      "        self.last_layer = new_layer\n",
      "        \n",
      "    def feed_forward(self, input_vector):\n",
      "        input_layer = self.layers[0]\n",
      "        input_layer.feed_forward(input_vector)\n",
      "    \n",
      "    def calculate_cost(self, target):\n",
      "        print \"cost\", np.sum(np.power(self.last_layer.output_act - target, 2))\n",
      "    \n",
      "    def description(self):\n",
      "        print \"Network with layers: \", len(self.layers)\n",
      "        self.layers[0].description()"
     ],
     "language": "python",
     "metadata": {},
     "outputs": [],
     "prompt_number": 5
    },
    {
     "cell_type": "code",
     "collapsed": false,
     "input": [
      "myNet = Network()\n",
      "myNet.add_layer(Layer(num_inputs=10, num_outputs=4))\n",
      "myNet.add_layer(Layer(num_outputs=1))\n",
      "myNet.add_layer(Layer(num_outputs=4))\n",
      "myNet.add_layer(Layer(num_outputs=2))\n",
      "myNet.add_layer(Layer(num_outputs=1))\n",
      "\n",
      "myNet.description()"
     ],
     "language": "python",
     "metadata": {},
     "outputs": [
      {
       "output_type": "stream",
       "stream": "stdout",
       "text": [
        "Network with layers:  5\n",
        "Shape: (10, 4)\n",
        "Shape: (4, 1)\n",
        "Shape: (1, 4)\n",
        "Shape: (4, 2)\n",
        "Shape: (2, 1)\n"
       ]
      }
     ],
     "prompt_number": 6
    },
    {
     "cell_type": "code",
     "collapsed": false,
     "input": [
      "input_vector = np.random.randn(10)\n",
      "myNet.feed_forward(input_vector)\n",
      "target = np.random.randn(2)\n",
      "print target\n",
      "myNet.calculate_cost(target)"
     ],
     "language": "python",
     "metadata": {},
     "outputs": [
      {
       "output_type": "stream",
       "stream": "stdout",
       "text": [
        "feed forward: [ 0.3567412   0.05592869  0.98185662  0.3388977 ]\n",
        "feed forward: [ 0.26048933]\n",
        "feed forward: [ 0.46019805  0.61716622  0.44552132  0.47186333]\n",
        "feed forward: [ 0.85282845  0.83782068]\n",
        "feed forward: [ 0.43681111]\n",
        "[-0.11498013 -0.91070599]\n",
        "cost 2.12027591289\n"
       ]
      }
     ],
     "prompt_number": 7
    },
    {
     "cell_type": "code",
     "collapsed": false,
     "input": [
      "myNet.layers[0].graph()"
     ],
     "language": "python",
     "metadata": {},
     "outputs": [
      {
       "metadata": {},
       "output_type": "display_data",
       "png": "[encoded data removed]",
       "text": [
        "<matplotlib.figure.Figure at 0x10d883190>"
       ]
      }
     ],
     "prompt_number": 20
    },
    {
     "cell_type": "code",
     "collapsed": false,
     "input": [],
     "language": "python",
     "metadata": {},
     "outputs": []
    }
   ],
   "metadata": {}
  }
 ]
}