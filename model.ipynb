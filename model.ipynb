{
 "metadata": {
  "name": "",
  "signature": "sha256:7428fdc2d3c33cf74e94fac1d6fad8e6c24a0af56642609e9393c99fb826620a"
 },
 "nbformat": 3,
 "nbformat_minor": 0,
 "worksheets": [
  {
   "cells": [
    {
     "cell_type": "code",
     "collapsed": false,
     "input": [
      "import numpy as np"
     ],
     "language": "python",
     "metadata": {},
     "outputs": [],
     "prompt_number": 52
    },
    {
     "cell_type": "code",
     "collapsed": false,
     "input": [
      "def activation(x):\n",
      "    return 1/(1+np.exp(-x))\n",
      "def activation_d(x):\n",
      "    return activation(x)*(1-activation(x))\n",
      "\n",
      "#Layer class - Network will contain a list of layers, each responsible for feedforward\n",
      "class Layer(object):\n",
      "    def __init__(self, num_inputs=0, num_outputs=0):\n",
      "        self.num_outputs = num_outputs\n",
      "        self.num_inputs = num_inputs\n",
      "        \n",
      "        self.child_layer = None\n",
      "        self.parent_layer = None\n",
      "        \n",
      "        #user set both inputs and outputs, create weights\n",
      "        if self.num_inputs != 0 and self.num_outputs != 0:\n",
      "            self.init_weights()\n",
      "        #Setup activation functions\n",
      "        self.activation = np.vectorize(activation)\n",
      "        self.activation_d = np.vectorize(activation_d)\n",
      "    \n",
      "    def set_parent(self, parent_layer):\n",
      "        self.parent_layer = parent_layer\n",
      "        #Init weights now that you have the correct dimensions\n",
      "        self.num_inputs = self.parent_layer.num_outputs\n",
      "        self.init_weights()\n",
      "        \n",
      "    def set_child(self, child_layer):\n",
      "        self.child_layer = child_layer\n",
      "        \n",
      "    def init_weights(self):\n",
      "        self.weights = np.random.randn(self.num_inputs, self.num_outputs)\n",
      "        \n",
      "    def feed_forward(self, input_vector):\n",
      "        self.input_vector = input_vector\n",
      "        self.output_raw = input_vector.dot(self.weights)\n",
      "        self.output_act = self.activation(self.output_raw)\n",
      "        print \"feed forward:\", self.output_act\n",
      "        if self.child_layer:\n",
      "            self.child_layer.feed_forward(self.output_act)\n",
      "            \n",
      "    def description(self):\n",
      "        print \"Shape:\", self.weights.shape\n",
      "        if self.child_layer:\n",
      "            self.child_layer.description()\n",
      "                       \n",
      "#Network class - Will manage layers        \n",
      "class Network(object):\n",
      "    def __init__(self, learning_rate = 0.1):\n",
      "        self.layers = []\n",
      "        self.leanring_rate = learning_rate\n",
      "        \n",
      "    def add_layer(self, new_layer):\n",
      "        #Get last layer to associate it with the newest layer\n",
      "        if len(self.layers) == 0:\n",
      "            self.layers.append(new_layer)\n",
      "        else:\n",
      "            last_layer = self.layers[-1]\n",
      "            new_layer.set_parent(last_layer)\n",
      "            last_layer.set_child(new_layer)\n",
      "            self.layers.append(new_layer)\n",
      "        \n",
      "    def feed_forward(self, input_vector):\n",
      "        input_layer = self.layers[0]\n",
      "        input_layer.feed_forward(input_vector)\n",
      "        pass\n",
      "    \n",
      "    def description(self):\n",
      "        print \"Network with layers: \", len(self.layers)\n",
      "        self.layers[0].description()"
     ],
     "language": "python",
     "metadata": {},
     "outputs": [],
     "prompt_number": 214
    },
    {
     "cell_type": "code",
     "collapsed": false,
     "input": [
      "myNet = Network()\n",
      "myNet.add_layer(Layer(num_inputs=10, num_outputs=4))\n",
      "myNet.add_layer(Layer(num_outputs=1))\n",
      "myNet.add_layer(Layer(num_outputs=4))\n",
      "myNet.add_layer(Layer(num_outputs=2))\n",
      "myNet.add_layer(Layer(num_outputs=1))\n",
      "\n",
      "myNet.description()"
     ],
     "language": "python",
     "metadata": {},
     "outputs": [
      {
       "output_type": "stream",
       "stream": "stdout",
       "text": [
        "Network with layers:  5\n",
        "Shape: (10, 4)\n",
        "Shape: (4, 1)\n",
        "Shape: (1, 4)\n",
        "Shape: (4, 2)\n",
        "Shape: (2, 1)\n"
       ]
      }
     ],
     "prompt_number": 267
    },
    {
     "cell_type": "code",
     "collapsed": false,
     "input": [
      "input_vector = np.random.randn(10)\n",
      "myNet.feed_forward(input_vector)"
     ],
     "language": "python",
     "metadata": {},
     "outputs": [
      {
       "output_type": "stream",
       "stream": "stdout",
       "text": [
        "feed forward: [ 0.99837914  0.01519209  0.81567553  0.88550108]\n",
        "feed forward: [ 0.77760301]\n",
        "feed forward: [ 0.62028788  0.31346907  0.28675141  0.63698391]\n",
        "feed forward: [ 0.74156733  0.30448604]\n",
        "feed forward: [ 0.52749534]\n"
       ]
      }
     ],
     "prompt_number": 293
    },
    {
     "cell_type": "code",
     "collapsed": false,
     "input": [],
     "language": "python",
     "metadata": {},
     "outputs": []
    }
   ],
   "metadata": {}
  }
 ]
}